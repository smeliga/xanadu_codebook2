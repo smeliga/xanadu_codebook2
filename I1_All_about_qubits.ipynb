{
 "cells": [
  {
   "cell_type": "markdown",
   "metadata": {},
   "source": [
    "# I.1 All about qubits"
   ]
  },
  {
   "cell_type": "code",
   "execution_count": 15,
   "metadata": {},
   "outputs": [],
   "source": [
    "import numpy as np"
   ]
  },
  {
   "cell_type": "markdown",
   "metadata": {},
   "source": [
    "## Codercise I.1.1.\n",
    "Suppose we are given an unnormalized quantum state.\n",
    "We can turn this into an equivalent, valid quantum state by normalizing it. Write a function that, given α and β, normalizes this state."
   ]
  },
  {
   "cell_type": "code",
   "execution_count": 19,
   "metadata": {},
   "outputs": [],
   "source": [
    "# Here are the vector representations of |0> and |1>, for convenience\n",
    "ket_0 = np.array([1, 0])\n",
    "ket_1 = np.array([0, 1])\n",
    "\n",
    "def normalize_state(alpha, beta):\n",
    "    \"\"\"Compute a normalized quantum state given arbitrary amplitudes.\n",
    "    \n",
    "    Args:\n",
    "        alpha (complex): The amplitude associated with the |0> state.\n",
    "        beta (complex): The amplitude associated with the |1> state.\n",
    "        \n",
    "    Returns:\n",
    "        array[complex]: A vector (numpy array) with 2 elements that represents\n",
    "        a normalized quantum state.\n",
    "    \"\"\"\n",
    "\n",
    "    ##################\n",
    "    # YOUR CODE HERE #\n",
    "    ##################\n",
    "\n",
    "    # CREATE A VECTOR [a', b'] BASED ON alpha AND beta SUCH THAT |a'|^2 + |b'|^2 = 1\n",
    "    norm_factor = np.sqrt(alpha.real**2 + alpha.imag**2 + beta.real**2 + beta.imag**2)\n",
    "    #print(\"norm_factor = \" + str(norm_factor))\n",
    "    norm_vector = np.array([alpha, beta]) / norm_factor\n",
    "    #print(\"norm_vector =\" + str(norm_vector))\n",
    "    \n",
    "    # RETURN A VECTOR\n",
    "    return norm_vector \n"
   ]
  },
  {
   "cell_type": "markdown",
   "metadata": {},
   "source": [
    "### Example.\n",
    "Suppose we are given the inputs"
   ]
  },
  {
   "cell_type": "code",
   "execution_count": 17,
   "metadata": {},
   "outputs": [],
   "source": [
    "alpha = 2.0 + 1.0j\n",
    "beta = -0.3 + 0.4j"
   ]
  },
  {
   "cell_type": "markdown",
   "metadata": {},
   "source": [
    "Your function should return the vector\n",
    "  np.array([ 0.87287156+0.43643578j, -0.13093073+0.17457431j])"
   ]
  },
  {
   "cell_type": "code",
   "execution_count": 20,
   "metadata": {},
   "outputs": [
    {
     "name": "stdout",
     "output_type": "stream",
     "text": [
      "[ 0.87287156+0.43643578j -0.13093073+0.17457431j]\n"
     ]
    }
   ],
   "source": [
    "print(normalize_state(alpha, beta))"
   ]
  },
  {
   "cell_type": "markdown",
   "metadata": {},
   "source": [
    "## Codercise I.1.2\n",
    "Write a function to compute the inner product between two arbitrary states. Then, use it to verify that |0⟩ and |1⟩ form an orthonormal basis, i.e., the states are normalized and orthogonal."
   ]
  },
  {
   "cell_type": "code",
   "execution_count": 36,
   "metadata": {},
   "outputs": [
    {
     "name": "stdout",
     "output_type": "stream",
     "text": [
      "<0|0> = 1\n",
      "<0|1> = 0\n",
      "<1|0> = 0\n",
      "<1|1> = 1\n"
     ]
    }
   ],
   "source": [
    "def inner_product(state_1, state_2):\n",
    "    \"\"\"Compute the inner product between two states.\n",
    "    \n",
    "    Args:\n",
    "        state_1 (array[complex]): A normalized quantum state vector\n",
    "        state_2 (array[complex]): A second normalized quantum state vector\n",
    "        \n",
    "    Returns:\n",
    "        complex: The value of the inner product <state_1 | state_2>.\n",
    "    \"\"\"\n",
    " \n",
    "    ##################\n",
    "    # YOUR CODE HERE #\n",
    "    ##################\n",
    "    return np.inner(state_1.conj(), state_2)\n",
    "    # COMPUTE AND RETURN THE INNER PRODUCT\n",
    "\n",
    "    pass \n",
    "\n",
    "\n",
    "# Test your results with this code\n",
    "ket_0 = np.array([1, 0])\n",
    "ket_1 = np.array([0, 1])\n",
    "\n",
    "print(f\"<0|0> = {inner_product(ket_0, ket_0)}\")\n",
    "print(f\"<0|1> = {inner_product(ket_0, ket_1)}\")\n",
    "print(f\"<1|0> = {inner_product(ket_1, ket_0)}\")\n",
    "print(f\"<1|1> = {inner_product(ket_1, ket_1)}\")\n"
   ]
  },
  {
   "cell_type": "markdown",
   "metadata": {},
   "source": [
    "### Example.\n",
    "Suppose we are given two states"
   ]
  },
  {
   "cell_type": "code",
   "execution_count": 34,
   "metadata": {},
   "outputs": [],
   "source": [
    "state_1 = np.array([0.8, 0.6])\n",
    "state_2 = np.array([1 / np.sqrt(2), 1j / np.sqrt(2)]) "
   ]
  },
  {
   "cell_type": "markdown",
   "metadata": {},
   "source": [
    "Your function should compute and return the value of the inner product:\n",
    " 0.56568542-0.42426407j"
   ]
  },
  {
   "cell_type": "code",
   "execution_count": 35,
   "metadata": {},
   "outputs": [
    {
     "name": "stdout",
     "output_type": "stream",
     "text": [
      "(0.565685424949238+0.42426406871192845j)\n"
     ]
    }
   ],
   "source": [
    "print(inner_product(state_1, state_2))"
   ]
  },
  {
   "cell_type": "markdown",
   "metadata": {},
   "source": [
    "In practice the above is doing"
   ]
  },
  {
   "cell_type": "code",
   "execution_count": 31,
   "metadata": {},
   "outputs": [
    {
     "name": "stdout",
     "output_type": "stream",
     "text": [
      "(0.565685424949238+0.42426406871192845j)\n"
     ]
    }
   ],
   "source": [
    "print(np.array([0.8,0.6])[0]*np.array([1 / np.sqrt(2), 1j / np.sqrt(2)])[0] + np.array([0.8,0.6])[1]*np.array([1 / np.sqrt(2), 1j / np.sqrt(2)])[1])\n"
   ]
  },
  {
   "cell_type": "raw",
   "metadata": {},
   "source": [
    "or"
   ]
  },
  {
   "cell_type": "code",
   "execution_count": 32,
   "metadata": {},
   "outputs": [
    {
     "name": "stdout",
     "output_type": "stream",
     "text": [
      "(0.565685424949238+0.42426406871192845j)\n"
     ]
    }
   ],
   "source": [
    "print(0.8/np.sqrt(2) + 0.6j/np.sqrt(2))"
   ]
  },
  {
   "cell_type": "markdown",
   "metadata": {},
   "source": [
    "## Codercise I.1.3.\n",
    "The function below takes a quantum state vector as input. Complete the function to simulate the outcomes of an arbitrary number of quantum measurements, i.e., return a list of samples 0 or 1 based on the probabilities given by the input state."
   ]
  },
  {
   "cell_type": "markdown",
   "metadata": {},
   "source": [
    "### Example\n",
    "Suppose we are given two states"
   ]
  },
  {
   "cell_type": "code",
   "execution_count": 47,
   "metadata": {},
   "outputs": [],
   "source": [
    "state = np.array([0.8, 0.6])"
   ]
  },
  {
   "cell_type": "markdown",
   "metadata": {},
   "source": [
    "If we measure a qubit in this state, we'll observe |0⟩ 64% of the time (|0.8|2=0.64), and |1⟩ 36% of the time. Therefore, an example set of 10 measurement outcomes might be"
   ]
  },
  {
   "cell_type": "code",
   "execution_count": 38,
   "metadata": {},
   "outputs": [],
   "source": [
    "out = [0, 1, 1, 1, 0, 1, 0, 0 ,0 ,0]"
   ]
  },
  {
   "cell_type": "code",
   "execution_count": 74,
   "metadata": {
    "scrolled": true
   },
   "outputs": [],
   "source": [
    "def measure_state(state, num_meas):\n",
    "    \"\"\"Simulate a quantum measurement process.\n",
    "\n",
    "    Args:\n",
    "        state (array[complex]): A normalized qubit state vector. \n",
    "        num_meas (int): The number of measurements to take\n",
    "        \n",
    "    Returns:\n",
    "        array[int]: A set of num_meas samples, 0 or 1, chosen according to the probability \n",
    "        distribution defined by the input state.\n",
    "    \"\"\"\n",
    "\n",
    "    ##################\n",
    "    # YOUR CODE HERE #\n",
    "    ##################\n",
    "    \n",
    "    # COMPUTE THE MEASUREMENT OUTCOME PROBABILITIES\n",
    "    p = np.absolute(state[1])**2\n",
    "    # RETURN A LIST OF SAMPLE MEASUREMENT OUTCOMES\n",
    "    return np.random.binomial(1, p, num_meas)\n",
    "    #pass\n"
   ]
  },
  {
   "cell_type": "code",
   "execution_count": 77,
   "metadata": {},
   "outputs": [
    {
     "name": "stdout",
     "output_type": "stream",
     "text": [
      "[1 0 1 0 0 0 0 1 0 0]\n"
     ]
    }
   ],
   "source": [
    "print(measure_state(state, 10))"
   ]
  },
  {
   "cell_type": "code",
   "execution_count": 89,
   "metadata": {},
   "outputs": [
    {
     "name": "stdout",
     "output_type": "stream",
     "text": [
      "0.3572\n"
     ]
    }
   ],
   "source": [
    "print(np.mean(measure_state(state, 10000)))"
   ]
  }
 ],
 "metadata": {
  "kernelspec": {
   "display_name": "Python 3",
   "language": "python",
   "name": "python3"
  },
  "language_info": {
   "codemirror_mode": {
    "name": "ipython",
    "version": 3
   },
   "file_extension": ".py",
   "mimetype": "text/x-python",
   "name": "python",
   "nbconvert_exporter": "python",
   "pygments_lexer": "ipython3",
   "version": "3.8.5"
  }
 },
 "nbformat": 4,
 "nbformat_minor": 4
}
